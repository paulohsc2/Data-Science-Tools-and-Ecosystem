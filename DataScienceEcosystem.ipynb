{
 "cells": [
  {
   "cell_type": "markdown",
   "id": "69dce3fd-36c0-49c2-838f-1227c52b0110",
   "metadata": {},
   "source": [
    "# Data Science Tools and Ecosystem "
   ]
  },
  {
   "cell_type": "markdown",
   "id": "b4cc3f95-d9c1-4175-a53a-c24ef0cb679f",
   "metadata": {},
   "source": [
    "## In this notebook, Data Science Tools and Ecosystem are summarized."
   ]
  },
  {
   "cell_type": "markdown",
   "id": "13a19c1d-7fff-431e-a556-d3bca12523a8",
   "metadata": {},
   "source": [
    "**Objectives:**\n",
    "- List popular languages for Data Science\n",
    "- Some of the commonly used libraries\n",
    "- Below are a few examples of evaluating arithmetic"
   ]
  },
  {
   "cell_type": "markdown",
   "id": "0c2919db-f6b7-4387-943b-a8d9edd86092",
   "metadata": {},
   "source": [
    "### Some of the popular languages that Data Scientists use are:\n",
    "1. Python\n",
    "2. SQL\n",
    "3. R\n"
   ]
  },
  {
   "cell_type": "markdown",
   "id": "38b825df-1149-469c-ad10-18b22b8ccf15",
   "metadata": {},
   "source": [
    "### Some of the commonly used libraries used by Data Scientists include:\n",
    "1. Pandas\n",
    "2. NumPy\n",
    "3. Matplotlib"
   ]
  },
  {
   "cell_type": "markdown",
   "id": "bc571d9f-e9c6-4df6-9e58-008cb9248339",
   "metadata": {},
   "source": [
    "|Data Science tools|\n",
    "|-----------|\n",
    "|Jupyter Notebook|\n",
    "|VS Code |\n",
    "|RStudio|    "
   ]
  },
  {
   "cell_type": "markdown",
   "id": "8e0e74bf-cf36-48bb-8d7d-3c0c37c4d8c0",
   "metadata": {},
   "source": [
    "### Below are a few examples of evaluating arithmetic expressions in Python"
   ]
  },
  {
   "cell_type": "code",
   "execution_count": 23,
   "id": "ff83cca8-351f-4c41-a2cf-a7641b79c6bb",
   "metadata": {},
   "outputs": [
    {
     "data": {
      "text/plain": [
       "17"
      ]
     },
     "execution_count": 23,
     "metadata": {},
     "output_type": "execute_result"
    }
   ],
   "source": [
    "# This a simple arithmetic expression to mutiply then add integers \n",
    "(3*4)+5"
   ]
  },
  {
   "cell_type": "code",
   "execution_count": 35,
   "id": "62ac737f-e008-4529-9793-d9397014f537",
   "metadata": {},
   "outputs": [
    {
     "data": {
      "text/plain": [
       "3"
      ]
     },
     "execution_count": 35,
     "metadata": {},
     "output_type": "execute_result"
    }
   ],
   "source": [
    "# This will convert 200 minutes to hours by diving by 60\n",
    "200//60\n"
   ]
  },
  {
   "cell_type": "markdown",
   "id": "54166c7f-de69-4ca1-ba75-81b10cdfab4b",
   "metadata": {},
   "source": [
    "## Author: Paulo Sinisterra"
   ]
  },
  {
   "cell_type": "code",
   "execution_count": null,
   "id": "214ffc74-699a-411c-8e35-2cfee7d84a8b",
   "metadata": {},
   "outputs": [],
   "source": []
  }
 ],
 "metadata": {
  "kernelspec": {
   "display_name": "Python 3 (ipykernel)",
   "language": "python",
   "name": "python3"
  },
  "language_info": {
   "codemirror_mode": {
    "name": "ipython",
    "version": 3
   },
   "file_extension": ".py",
   "mimetype": "text/x-python",
   "name": "python",
   "nbconvert_exporter": "python",
   "pygments_lexer": "ipython3",
   "version": "3.12.4"
  }
 },
 "nbformat": 4,
 "nbformat_minor": 5
}
